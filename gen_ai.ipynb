{
  "nbformat": 4,
  "nbformat_minor": 0,
  "metadata": {
    "colab": {
      "provenance": [],
      "authorship_tag": "ABX9TyP2j9zv2vCPhiEg4ci/ZZ7Z",
      "include_colab_link": true
    },
    "kernelspec": {
      "name": "python3",
      "display_name": "Python 3"
    },
    "language_info": {
      "name": "python"
    }
  },
  "cells": [
    {
      "cell_type": "markdown",
      "metadata": {
        "id": "view-in-github",
        "colab_type": "text"
      },
      "source": [
        "<a href=\"https://colab.research.google.com/github/AbhishekChaganti/DWDM1/blob/main/gen_ai.ipynb\" target=\"_parent\"><img src=\"https://colab.research.google.com/assets/colab-badge.svg\" alt=\"Open In Colab\"/></a>"
      ]
    },
    {
      "cell_type": "code",
      "execution_count": 22,
      "metadata": {
        "colab": {
          "base_uri": "https://localhost:8080/"
        },
        "id": "3BkOSXVYK4Nr",
        "outputId": "f0794961-573f-4ae9-e798-0f09880d3d03"
      },
      "outputs": [
        {
          "output_type": "execute_result",
          "data": {
            "text/plain": [
              "0      Angioplasty,Coronary artery bypass surgery\n",
              "1      Angioplasty,Coronary artery bypass surgery\n",
              "2      Angioplasty,Coronary artery bypass surgery\n",
              "3      Angioplasty,Coronary artery bypass surgery\n",
              "4      Angioplasty,Coronary artery bypass surgery\n",
              "                          ...                    \n",
              "329                               Pericardiectomy\n",
              "330                               Pericardiectomy\n",
              "331                               Pericardiectomy\n",
              "332                               Pericardiectomy\n",
              "333                               Pericardiectomy\n",
              "Name: Treatment, Length: 334, dtype: object"
            ]
          },
          "metadata": {},
          "execution_count": 22
        }
      ],
      "source": [
        "import pandas as pd\n",
        "import numpy as np\n",
        "data=pd.read_csv('/content/Heart_disease_details.csv')\n",
        "#data.describe()\n",
        "from sklearn.preprocessing import LabelEncoder\n",
        "from sklearn.preprocessing import OrdinalEncoder\n",
        "LE=LabelEncoder()\n",
        "OE=OrdinalEncoder()\n",
        "X=data.iloc[:,1:]\n",
        "X\n",
        "Y=data.iloc[:,-1]\n",
        "Y"
      ]
    },
    {
      "cell_type": "code",
      "source": [
        "Y=LE.fit_transform(Y)\n",
        "X=OE.fit_transform(X)\n",
        "X=pd.DataFrame(X)\n",
        "Y=pd.DataFrame(Y)"
      ],
      "metadata": {
        "colab": {
          "base_uri": "https://localhost:8080/"
        },
        "id": "Pd-Ba1ZHe6xu",
        "outputId": "924832b7-c48c-499a-c444-b9e6ff2c170e"
      },
      "execution_count": 26,
      "outputs": [
        {
          "output_type": "stream",
          "name": "stderr",
          "text": [
            "/usr/local/lib/python3.10/dist-packages/sklearn/preprocessing/_label.py:116: DataConversionWarning: A column-vector y was passed when a 1d array was expected. Please change the shape of y to (n_samples, ), for example using ravel().\n",
            "  y = column_or_1d(y, warn=True)\n"
          ]
        }
      ]
    },
    {
      "cell_type": "code",
      "source": [
        "from sklearn.preprocessing import MinMaxScaler\n",
        "from sklearn.preprocessing import StandardScaler\n",
        "MMS=MinMaxScaler()\n",
        "SS=StandardScaler()\n",
        "X=MMS.fit_transform(X)\n",
        "Y=MMS.fit_transform(Y)\n",
        "X=pd.DataFrame(X)\n",
        "Y=pd.DataFrame(Y)"
      ],
      "metadata": {
        "id": "61mxCOOLeoIW"
      },
      "execution_count": 27,
      "outputs": []
    }
  ]
}